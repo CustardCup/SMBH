{
  "cells": [
    {
      "cell_type": "markdown",
      "source": [
        "Background Functions\n",
        "Hit \"Play\" button here to install packages and functions we'll use."
      ],
      "metadata": {
        "id": "6HwR873PEF9x"
      }
    },
    {
      "cell_type": "code",
      "source": [
        "#  @title Background Functions\n",
        "!pip install ipywidgets\n",
        "\n",
        "import numpy as np\n",
        "from scipy.optimize import curve_fit\n",
        "import matplotlib.pyplot as plt\n",
        "from astropy.constants import G\n",
        "from scipy.stats import norm\n",
        "import ipywidgets as widgets\n",
        "from IPython.display import display, Markdown, clear_output, Latex\n",
        "from ipywidgets import interactive\n",
        "from IPython.display import display, clear_output\n",
        "\n",
        "# Define the gaussian_maker function\n",
        "def gaussian_maker(s):\n",
        "  # Parameters for the Gaussian distribution\n",
        "  mean = 42\n",
        "  std_dev = s\n",
        "\n",
        "  # Generating a random sample from the Gaussian distribution\n",
        "  data = np.random.normal(mean, std_dev, 1000)\n",
        "\n",
        "  # Plotting the histogram of the sample\n",
        "  count, bins, ignored = plt.hist(data, bins=30, density=False, alpha=1, color='r', label = 'Histogram of Values')\n",
        "  bin_width = bins[1] - bins[0]\n",
        "\n",
        "  # Plotting the Probability Density Function (PDF)\n",
        "  xmin, xmax = plt.xlim()\n",
        "  x = np.linspace(xmin, xmax, 100)\n",
        "  p = norm.pdf(x, mean, std_dev) * len(data) * bin_width\n",
        "  plt.plot(x, p, 'k', linewidth=2, label = 'Shape')\n",
        "  plt.axvline(x=mean, color='b', linestyle='--', label='Mean Value: x = ' + str(mean))\n",
        "\n",
        "  title = \"Fit results: Mean = %.2f,  Standard Deviation = %.2f\" % (mean, std_dev)\n",
        "  plt.xlabel('Value')\n",
        "  plt.ylabel('# of times it appears')\n",
        "  plt.legend()\n",
        "  plt.title(title)\n",
        "  plt.xlim(-10,95)\n",
        "  plt.ylim(0,100)\n",
        "  plt.show()\n",
        "\n",
        "def gaussian_slider():\n",
        "# Create an interactive widget\n",
        "  interactive_plot = interactive(gaussian_maker, s=widgets.FloatSlider(\n",
        "      value=1.0,\n",
        "      min=0,\n",
        "      max=50,\n",
        "      step=1,\n",
        "      description='STD:',\n",
        "      continuous_update=True,\n",
        "      orientation='horizontal',\n",
        "      readout=True,\n",
        "      readout_format='.1f'\n",
        "  ))\n",
        "\n",
        "  # Display the interactive widget\n",
        "  display(interactive_plot)\n",
        "\n",
        "\n",
        "def make_gaussian(m,s, colour):\n",
        "  '''\n",
        "  Different from gaussian_maker as this one returns the produced gaussian data sets.\n",
        "  Only used in the combined plot of the two gaussian at the end of the Statistics section.\n",
        "  '''\n",
        "\n",
        "  # Parameters for the Gaussian distribution\n",
        "\n",
        "  mean = m\n",
        "  std_dev = s\n",
        "\n",
        "  # Generating a random sample from the Gaussian distribution\n",
        "  data = np.random.normal(mean, std_dev, 1000)\n",
        "  '''\n",
        "  # Plotting the histogram of the sample\n",
        "  count, bins, ignored = plt.hist(data, bins=30, density=False, alpha=1, color=colour, label = 'Histogram of Values')\n",
        "  bin_width = bins[1] - bins[0]\n",
        "\n",
        "  # Plotting the Probability Density Function (PDF)\n",
        "  xmin, xmax = plt.xlim()\n",
        "  x = np.linspace(xmin, xmax, 100)\n",
        "  p = norm.pdf(x, mean, std_dev) * len(data) * bin_width\n",
        "  plt.plot(x, p, 'k', linewidth=2, label = 'Shape')\n",
        "  plt.axvline(x=mean, color='b', linestyle='--', label='Mean Value: x = ' + str(m))\n",
        "\n",
        "  title = \"Fit results: Mean = %.2f,  Standard Deviation = %.2f\" % (mean, std_dev)\n",
        "  plt.xlabel('Value')\n",
        "  plt.ylabel('# of times it appears')\n",
        "  plt.legend()\n",
        "  plt.title(title)\n",
        "  plt.show()\n",
        "  '''\n",
        "  return data\n",
        "\n",
        "def std_plot(data1, data2, m,s1, s2, colour1, colour2):\n",
        "  # Plotting the histogram of the sample\n",
        "  mean = m\n",
        "  std_dev1 = s1\n",
        "  std_dev2 = s2\n",
        "  plt.figure(figsize=(10, 6))\n",
        "  count1, bins1, ignored = plt.hist(data1, bins=30, density=False, alpha=1, color=colour1, label = 'Histogram of Values - Blue')\n",
        "  count2, bins2, ignored = plt.hist(data2, bins=30, density=False, alpha=1, color=colour2, label = 'Histogram of Values - Red')\n",
        "  bin_width1 = bins1[1] - bins1[0]\n",
        "  bin_width2 = bins2[1] - bins2[0]\n",
        "  # Plotting the Probability Density Function (PDF)\n",
        "  xmin, xmax = plt.xlim()\n",
        "  x1 = np.linspace(xmin, xmax, 100)\n",
        "  x2 = np.linspace(xmin, xmax, 100)\n",
        "  p1 = norm.pdf(x1, mean, std_dev1) * len(data1) * bin_width1\n",
        "  p2 = norm.pdf(x2, mean, std_dev2) * len(data2) * bin_width2\n",
        "\n",
        "  plt.plot(x1, p1, 'k', linewidth=2, label = 'Shape')\n",
        "  plt.plot(x2, p2, 'k', linewidth=2)\n",
        "  plt.axvline(x=mean, color='b', linestyle='--', label='Mean Value: x = ' + str(m))\n",
        "  plt.hlines(y=np.max(p1)*0.6, xmin=mean, xmax=mean + s1, colors='orange', label='Std Dev for Blue: ±' + str(s1))\n",
        "  plt.hlines(y=np.max(p2)*0.6, xmin=mean, xmax=mean + s2, colors='indigo', label='Std Dev for Red: ±' + str(s2))\n",
        "  title = \"Standard Deviation of the Two Values\"\n",
        "  plt.xlabel('Value')\n",
        "  plt.ylabel('# of times it appears')\n",
        "  plt.legend()\n",
        "  plt.title(title)\n",
        "  plt.show()\n",
        "\n",
        "\n",
        "def mass_bh(a,T):\n",
        "  '''\n",
        "  This function takes a (semi-major axis) in metres and T (period) in seconds (the data we are using already has everything in these units,\n",
        "  so you don't have to change anything). This function also uses some constants like pi and G (gravitational constant) which are taken from\n",
        "  python libraries.\n",
        "\n",
        "  The function calculates M based on the formula we derived earlier and it returns the value calculated.\n",
        "  '''\n",
        "  M = ((4*np.pi**2)/G.value)*((a**3)/(T**2))\n",
        "  return M\n",
        "\n"
      ],
      "metadata": {
        "id": "KiH6dvdLEJN1",
        "colab": {
          "base_uri": "https://localhost:8080/"
        },
        "outputId": "0e3daa55-f0d1-4f1d-a5cd-db8fb0f07ee5",
        "cellView": "form",
        "collapsed": true
      },
      "execution_count": null,
      "outputs": [
        {
          "output_type": "stream",
          "name": "stdout",
          "text": [
            "Requirement already satisfied: ipywidgets in /usr/local/lib/python3.10/dist-packages (7.7.1)\n",
            "Requirement already satisfied: ipykernel>=4.5.1 in /usr/local/lib/python3.10/dist-packages (from ipywidgets) (5.5.6)\n",
            "Requirement already satisfied: ipython-genutils~=0.2.0 in /usr/local/lib/python3.10/dist-packages (from ipywidgets) (0.2.0)\n",
            "Requirement already satisfied: traitlets>=4.3.1 in /usr/local/lib/python3.10/dist-packages (from ipywidgets) (5.7.1)\n",
            "Requirement already satisfied: widgetsnbextension~=3.6.0 in /usr/local/lib/python3.10/dist-packages (from ipywidgets) (3.6.10)\n",
            "Requirement already satisfied: ipython>=4.0.0 in /usr/local/lib/python3.10/dist-packages (from ipywidgets) (7.34.0)\n",
            "Requirement already satisfied: jupyterlab-widgets>=1.0.0 in /usr/local/lib/python3.10/dist-packages (from ipywidgets) (3.0.13)\n",
            "Requirement already satisfied: jupyter-client in /usr/local/lib/python3.10/dist-packages (from ipykernel>=4.5.1->ipywidgets) (6.1.12)\n",
            "Requirement already satisfied: tornado>=4.2 in /usr/local/lib/python3.10/dist-packages (from ipykernel>=4.5.1->ipywidgets) (6.3.3)\n",
            "Requirement already satisfied: setuptools>=18.5 in /usr/local/lib/python3.10/dist-packages (from ipython>=4.0.0->ipywidgets) (75.1.0)\n",
            "Collecting jedi>=0.16 (from ipython>=4.0.0->ipywidgets)\n",
            "  Downloading jedi-0.19.1-py2.py3-none-any.whl.metadata (22 kB)\n",
            "Requirement already satisfied: decorator in /usr/local/lib/python3.10/dist-packages (from ipython>=4.0.0->ipywidgets) (4.4.2)\n",
            "Requirement already satisfied: pickleshare in /usr/local/lib/python3.10/dist-packages (from ipython>=4.0.0->ipywidgets) (0.7.5)\n",
            "Requirement already satisfied: prompt-toolkit!=3.0.0,!=3.0.1,<3.1.0,>=2.0.0 in /usr/local/lib/python3.10/dist-packages (from ipython>=4.0.0->ipywidgets) (3.0.48)\n",
            "Requirement already satisfied: pygments in /usr/local/lib/python3.10/dist-packages (from ipython>=4.0.0->ipywidgets) (2.18.0)\n",
            "Requirement already satisfied: backcall in /usr/local/lib/python3.10/dist-packages (from ipython>=4.0.0->ipywidgets) (0.2.0)\n",
            "Requirement already satisfied: matplotlib-inline in /usr/local/lib/python3.10/dist-packages (from ipython>=4.0.0->ipywidgets) (0.1.7)\n",
            "Requirement already satisfied: pexpect>4.3 in /usr/local/lib/python3.10/dist-packages (from ipython>=4.0.0->ipywidgets) (4.9.0)\n",
            "Requirement already satisfied: notebook>=4.4.1 in /usr/local/lib/python3.10/dist-packages (from widgetsnbextension~=3.6.0->ipywidgets) (6.5.5)\n",
            "Requirement already satisfied: parso<0.9.0,>=0.8.3 in /usr/local/lib/python3.10/dist-packages (from jedi>=0.16->ipython>=4.0.0->ipywidgets) (0.8.4)\n",
            "Requirement already satisfied: jinja2 in /usr/local/lib/python3.10/dist-packages (from notebook>=4.4.1->widgetsnbextension~=3.6.0->ipywidgets) (3.1.4)\n",
            "Requirement already satisfied: pyzmq<25,>=17 in /usr/local/lib/python3.10/dist-packages (from notebook>=4.4.1->widgetsnbextension~=3.6.0->ipywidgets) (24.0.1)\n",
            "Requirement already satisfied: argon2-cffi in /usr/local/lib/python3.10/dist-packages (from notebook>=4.4.1->widgetsnbextension~=3.6.0->ipywidgets) (23.1.0)\n",
            "Requirement already satisfied: jupyter-core>=4.6.1 in /usr/local/lib/python3.10/dist-packages (from notebook>=4.4.1->widgetsnbextension~=3.6.0->ipywidgets) (5.7.2)\n",
            "Requirement already satisfied: nbformat in /usr/local/lib/python3.10/dist-packages (from notebook>=4.4.1->widgetsnbextension~=3.6.0->ipywidgets) (5.10.4)\n",
            "Requirement already satisfied: nbconvert>=5 in /usr/local/lib/python3.10/dist-packages (from notebook>=4.4.1->widgetsnbextension~=3.6.0->ipywidgets) (7.16.4)\n",
            "Requirement already satisfied: nest-asyncio>=1.5 in /usr/local/lib/python3.10/dist-packages (from notebook>=4.4.1->widgetsnbextension~=3.6.0->ipywidgets) (1.6.0)\n",
            "Requirement already satisfied: Send2Trash>=1.8.0 in /usr/local/lib/python3.10/dist-packages (from notebook>=4.4.1->widgetsnbextension~=3.6.0->ipywidgets) (1.8.3)\n",
            "Requirement already satisfied: terminado>=0.8.3 in /usr/local/lib/python3.10/dist-packages (from notebook>=4.4.1->widgetsnbextension~=3.6.0->ipywidgets) (0.18.1)\n",
            "Requirement already satisfied: prometheus-client in /usr/local/lib/python3.10/dist-packages (from notebook>=4.4.1->widgetsnbextension~=3.6.0->ipywidgets) (0.21.0)\n",
            "Requirement already satisfied: nbclassic>=0.4.7 in /usr/local/lib/python3.10/dist-packages (from notebook>=4.4.1->widgetsnbextension~=3.6.0->ipywidgets) (1.1.0)\n",
            "Requirement already satisfied: python-dateutil>=2.1 in /usr/local/lib/python3.10/dist-packages (from jupyter-client->ipykernel>=4.5.1->ipywidgets) (2.8.2)\n",
            "Requirement already satisfied: ptyprocess>=0.5 in /usr/local/lib/python3.10/dist-packages (from pexpect>4.3->ipython>=4.0.0->ipywidgets) (0.7.0)\n",
            "Requirement already satisfied: wcwidth in /usr/local/lib/python3.10/dist-packages (from prompt-toolkit!=3.0.0,!=3.0.1,<3.1.0,>=2.0.0->ipython>=4.0.0->ipywidgets) (0.2.13)\n",
            "Requirement already satisfied: platformdirs>=2.5 in /usr/local/lib/python3.10/dist-packages (from jupyter-core>=4.6.1->notebook>=4.4.1->widgetsnbextension~=3.6.0->ipywidgets) (4.3.6)\n",
            "Requirement already satisfied: notebook-shim>=0.2.3 in /usr/local/lib/python3.10/dist-packages (from nbclassic>=0.4.7->notebook>=4.4.1->widgetsnbextension~=3.6.0->ipywidgets) (0.2.4)\n",
            "Requirement already satisfied: beautifulsoup4 in /usr/local/lib/python3.10/dist-packages (from nbconvert>=5->notebook>=4.4.1->widgetsnbextension~=3.6.0->ipywidgets) (4.12.3)\n",
            "Requirement already satisfied: bleach!=5.0.0 in /usr/local/lib/python3.10/dist-packages (from nbconvert>=5->notebook>=4.4.1->widgetsnbextension~=3.6.0->ipywidgets) (6.2.0)\n",
            "Requirement already satisfied: defusedxml in /usr/local/lib/python3.10/dist-packages (from nbconvert>=5->notebook>=4.4.1->widgetsnbextension~=3.6.0->ipywidgets) (0.7.1)\n",
            "Requirement already satisfied: jupyterlab-pygments in /usr/local/lib/python3.10/dist-packages (from nbconvert>=5->notebook>=4.4.1->widgetsnbextension~=3.6.0->ipywidgets) (0.3.0)\n",
            "Requirement already satisfied: markupsafe>=2.0 in /usr/local/lib/python3.10/dist-packages (from nbconvert>=5->notebook>=4.4.1->widgetsnbextension~=3.6.0->ipywidgets) (3.0.2)\n",
            "Requirement already satisfied: mistune<4,>=2.0.3 in /usr/local/lib/python3.10/dist-packages (from nbconvert>=5->notebook>=4.4.1->widgetsnbextension~=3.6.0->ipywidgets) (3.0.2)\n",
            "Requirement already satisfied: nbclient>=0.5.0 in /usr/local/lib/python3.10/dist-packages (from nbconvert>=5->notebook>=4.4.1->widgetsnbextension~=3.6.0->ipywidgets) (0.10.0)\n",
            "Requirement already satisfied: packaging in /usr/local/lib/python3.10/dist-packages (from nbconvert>=5->notebook>=4.4.1->widgetsnbextension~=3.6.0->ipywidgets) (24.1)\n",
            "Requirement already satisfied: pandocfilters>=1.4.1 in /usr/local/lib/python3.10/dist-packages (from nbconvert>=5->notebook>=4.4.1->widgetsnbextension~=3.6.0->ipywidgets) (1.5.1)\n",
            "Requirement already satisfied: tinycss2 in /usr/local/lib/python3.10/dist-packages (from nbconvert>=5->notebook>=4.4.1->widgetsnbextension~=3.6.0->ipywidgets) (1.4.0)\n",
            "Requirement already satisfied: fastjsonschema>=2.15 in /usr/local/lib/python3.10/dist-packages (from nbformat->notebook>=4.4.1->widgetsnbextension~=3.6.0->ipywidgets) (2.20.0)\n",
            "Requirement already satisfied: jsonschema>=2.6 in /usr/local/lib/python3.10/dist-packages (from nbformat->notebook>=4.4.1->widgetsnbextension~=3.6.0->ipywidgets) (4.23.0)\n",
            "Requirement already satisfied: six>=1.5 in /usr/local/lib/python3.10/dist-packages (from python-dateutil>=2.1->jupyter-client->ipykernel>=4.5.1->ipywidgets) (1.16.0)\n",
            "Requirement already satisfied: argon2-cffi-bindings in /usr/local/lib/python3.10/dist-packages (from argon2-cffi->notebook>=4.4.1->widgetsnbextension~=3.6.0->ipywidgets) (21.2.0)\n",
            "Requirement already satisfied: webencodings in /usr/local/lib/python3.10/dist-packages (from bleach!=5.0.0->nbconvert>=5->notebook>=4.4.1->widgetsnbextension~=3.6.0->ipywidgets) (0.5.1)\n",
            "Requirement already satisfied: attrs>=22.2.0 in /usr/local/lib/python3.10/dist-packages (from jsonschema>=2.6->nbformat->notebook>=4.4.1->widgetsnbextension~=3.6.0->ipywidgets) (24.2.0)\n",
            "Requirement already satisfied: jsonschema-specifications>=2023.03.6 in /usr/local/lib/python3.10/dist-packages (from jsonschema>=2.6->nbformat->notebook>=4.4.1->widgetsnbextension~=3.6.0->ipywidgets) (2024.10.1)\n",
            "Requirement already satisfied: referencing>=0.28.4 in /usr/local/lib/python3.10/dist-packages (from jsonschema>=2.6->nbformat->notebook>=4.4.1->widgetsnbextension~=3.6.0->ipywidgets) (0.35.1)\n",
            "Requirement already satisfied: rpds-py>=0.7.1 in /usr/local/lib/python3.10/dist-packages (from jsonschema>=2.6->nbformat->notebook>=4.4.1->widgetsnbextension~=3.6.0->ipywidgets) (0.20.0)\n",
            "Requirement already satisfied: jupyter-server<3,>=1.8 in /usr/local/lib/python3.10/dist-packages (from notebook-shim>=0.2.3->nbclassic>=0.4.7->notebook>=4.4.1->widgetsnbextension~=3.6.0->ipywidgets) (1.24.0)\n",
            "Requirement already satisfied: cffi>=1.0.1 in /usr/local/lib/python3.10/dist-packages (from argon2-cffi-bindings->argon2-cffi->notebook>=4.4.1->widgetsnbextension~=3.6.0->ipywidgets) (1.17.1)\n",
            "Requirement already satisfied: soupsieve>1.2 in /usr/local/lib/python3.10/dist-packages (from beautifulsoup4->nbconvert>=5->notebook>=4.4.1->widgetsnbextension~=3.6.0->ipywidgets) (2.6)\n",
            "Requirement already satisfied: pycparser in /usr/local/lib/python3.10/dist-packages (from cffi>=1.0.1->argon2-cffi-bindings->argon2-cffi->notebook>=4.4.1->widgetsnbextension~=3.6.0->ipywidgets) (2.22)\n",
            "Requirement already satisfied: anyio<4,>=3.1.0 in /usr/local/lib/python3.10/dist-packages (from jupyter-server<3,>=1.8->notebook-shim>=0.2.3->nbclassic>=0.4.7->notebook>=4.4.1->widgetsnbextension~=3.6.0->ipywidgets) (3.7.1)\n",
            "Requirement already satisfied: websocket-client in /usr/local/lib/python3.10/dist-packages (from jupyter-server<3,>=1.8->notebook-shim>=0.2.3->nbclassic>=0.4.7->notebook>=4.4.1->widgetsnbextension~=3.6.0->ipywidgets) (1.8.0)\n",
            "Requirement already satisfied: idna>=2.8 in /usr/local/lib/python3.10/dist-packages (from anyio<4,>=3.1.0->jupyter-server<3,>=1.8->notebook-shim>=0.2.3->nbclassic>=0.4.7->notebook>=4.4.1->widgetsnbextension~=3.6.0->ipywidgets) (3.10)\n",
            "Requirement already satisfied: sniffio>=1.1 in /usr/local/lib/python3.10/dist-packages (from anyio<4,>=3.1.0->jupyter-server<3,>=1.8->notebook-shim>=0.2.3->nbclassic>=0.4.7->notebook>=4.4.1->widgetsnbextension~=3.6.0->ipywidgets) (1.3.1)\n",
            "Requirement already satisfied: exceptiongroup in /usr/local/lib/python3.10/dist-packages (from anyio<4,>=3.1.0->jupyter-server<3,>=1.8->notebook-shim>=0.2.3->nbclassic>=0.4.7->notebook>=4.4.1->widgetsnbextension~=3.6.0->ipywidgets) (1.2.2)\n",
            "Downloading jedi-0.19.1-py2.py3-none-any.whl (1.6 MB)\n",
            "\u001b[2K   \u001b[90m━━━━━━━━━━━━━━━━━━━━━━━━━━━━━━━━━━━━━━━━\u001b[0m \u001b[32m1.6/1.6 MB\u001b[0m \u001b[31m19.2 MB/s\u001b[0m eta \u001b[36m0:00:00\u001b[0m\n",
            "\u001b[?25hInstalling collected packages: jedi\n",
            "Successfully installed jedi-0.19.1\n"
          ]
        }
      ]
    },
    {
      "cell_type": "markdown",
      "source": [
        "# **Determining the Mass Sagittarius A*:**\n",
        "##**The Super Massive Black Hole at the Centre of our Galaxy**\n",
        "---\n",
        "###Authors: Daniel Chui, Umit Uzunboy, Aryanna Schiebelbein-Zwack"
      ],
      "metadata": {
        "id": "GN3-mjOTA5g6"
      }
    },
    {
      "cell_type": "markdown",
      "metadata": {
        "id": "JdzUx2mKAghB"
      },
      "source": [
        "In this python notebook, you will find the mass of SgrA* using two methods. The learning goals for this notebook are:\n",
        "\n",
        "\n",
        "\n",
        "\n",
        "\n"
      ]
    },
    {
      "cell_type": "markdown",
      "metadata": {
        "id": "wsH4XyPvFG4j"
      },
      "source": [
        "\n",
        "1. **Gain an fundamental understanding of black holes.**\n",
        "\n",
        "\n",
        "2. **Define functions that can do computations over an entire array.**\n",
        "\n",
        "\n",
        "3. **Use statistics, specifically standard deviation, to find the uncertainty\n",
        "in your black hole mass measurement.**\n",
        "\n",
        "\n",
        "4. **Visualise data using a scatter plot to look for trends.**\n",
        "\n",
        "\n",
        "5. **Use an algorithm (curve_fit) to find the line of best fit for the data with uncertainties.**\n",
        "\n",
        "\n",
        "6. **Apply the line of best fit to derive meaningful physical quantities from your data.**"
      ]
    },
    {
      "cell_type": "markdown",
      "metadata": {
        "id": "pO_qUO2sSmP-"
      },
      "source": [
        "\n",
        "  Black holes are the densest objects in the universe. Typically, they are formed when stars that are ~10 times the mass of our Sun \"die\" and stop creating an outward force that counteracts gravity and they collapse. Since these black holes were stars before, they are only about as massive as stars, ranging from 10 to 200 times the mass of our Sun. How then, do most galaxies have black holes at their centres with masses as high as a billion times the mass of the Sun?!\n",
        "\n",
        "---\n",
        "\n",
        "<div>\n",
        "<img src=\"https://images.ctfassets.net/cnu0m8re1exe/4QY2ChV7Aj3JRoKeYdwKrH/6f22b0f5a0410aa9d224ce5b2c483a28/shutterstock_1561751203.jpg?fm=jpg&fl=progressive&w=660&h=433&fit=fill\" width=\"500\"/>\n",
        "</div>\n",
        "\n",
        "**Figure (1)**. An artist's representation of a supermassive black hole. Black holes’ gravities are so strong, they can make light beams bend around the black hole, instead of going on a straight path so we see light all around the top and bottom. (Source: SquareMotion/Shutterstock)\n",
        "---\n",
        "---\n",
        "\n",
        "We have our very own resident supermassive black hole (SMBH) at the centre of the Milky Way, called Sagittarius A*, named so because it is located in the constellation Sagittarius. **Consider for a moment, and discuss with your groupmates, how could you possibly determine how massive it is? How can you weigh astrophysical objects?**\n",
        "\n",
        "---\n",
        "---\n",
        "\n",
        "We use orbits to determine masses, since gravity is dictated by the mass of objects and also influences how things orbit. The orbital period is the amount of time it takes for one object to complete an orbit around another. For example, the period of the Earth around the Sun is 1 year. Kepler's third law related the period ($T$) of an object with mass $M_1$, to the distance ($a$) from an object with mass $M_2$, by the equation:\n",
        "\n",
        "$$T^2 = \\frac{4\\pi^2}{G(M_{1}+M_{2})}a^3$$\n",
        "\n",
        "This means if you know how far away an object is from something and the amount of time it takes to orbit, you can compute the mass of the thing it is orbiting! ($G$ is called the gravitational constant and it's a universal constant like the speed of light). For example, we know the distance of the Earth from the Sun and we know it takes 1 year for it to go around the Sun, and with that information alone we can determine the mass of the Sun. Scientists did this exact thing for Sagitarrius A* , by measuring the orbits of stars that went close to it over the span of decades! Andrea Ghez and Reinhard Genzel were awarded the Nobel Prize in 2020 for measuring the mass of Sgr A*, something you are about to do!\n",
        "\n",
        "---\n",
        "---\n",
        "<div>\n",
        "<img src=\"https://upload.wikimedia.org/wikipedia/en/c/cf/SO-102_Orbital_Plot.jpg\" width=\"500\"/>\n",
        "</div>\n",
        "\n",
        "**Figure (2)**. Orbits of two stars, named SO-2 and S0-102, around a hidden object in the centre... (Source: Andrea Ghez et al./UCLA/Keck)\n",
        "---\n",
        "---\n",
        "\n",
        "---\n",
        "---\n",
        "<div>\n",
        "<img src=\"https://cdn.britannica.com/03/233003-050-0F1480F4/Sagittarius-A-supermassive-black-hole.jpg\" width=\"500\"/>\n",
        "</div>\n",
        "\n",
        "**Figure (3)**. A real picture of Sagittarius A*, taken by many radio telescopes all over Earth, which were combined to make essentially an Earth sized telescope. When these photos released some people complained they were blurry, but really these are the most resolved images ever taken by humans of anything ever, since we are seeing an object so far away in so much detail! (Source: Event Horizon Telescope)\n",
        "---\n",
        "---\n"
      ]
    },
    {
      "cell_type": "markdown",
      "metadata": {
        "id": "Hk1wQ-u2Ulki"
      },
      "source": [
        "# Coding Section"
      ]
    },
    {
      "cell_type": "markdown",
      "metadata": {
        "id": "1A6HDSwQSmHD"
      },
      "source": [
        "To begin any python project we need to import the packages and data we'll use.\n",
        "\n",
        "$\\textbf{Run the code below:}$"
      ]
    },
    {
      "cell_type": "code",
      "execution_count": null,
      "metadata": {
        "id": "lGjIQunMSZef",
        "colab": {
          "base_uri": "https://localhost:8080/"
        },
        "outputId": "8e22579a-8c11-4e2b-e04e-60fb2bb6e47c"
      },
      "outputs": [
        {
          "output_type": "stream",
          "name": "stdout",
          "text": [
            "[3.627100e+08 4.794080e+08 1.135440e+09 1.198520e+09 1.715776e+09\n",
            " 2.119488e+09 2.967914e+09]\n",
            "[1.19680e+14 1.46608e+14 2.61800e+14 2.69280e+14 3.42584e+14 3.93448e+14\n",
            " 4.93680e+14]\n"
          ]
        }
      ],
      "source": [
        "import numpy as np\n",
        "from scipy.optimize import curve_fit\n",
        "import ipywidgets as widgets\n",
        "from IPython.display import display, clear_output\n",
        "from ipywidgets import interactive\n",
        "import matplotlib.pyplot as plt\n",
        "from astropy.constants import G\n",
        "from scipy.stats import norm\n",
        "import tester as test\n",
        "\n",
        "# A function to convert units\n",
        "def au_to_m(distance):\n",
        "  #function to convert from AU to m\n",
        "  return distance*1.496*(10**11)\n",
        "def year_s(time):\n",
        "  #function to convert from years to seconds\n",
        "  t = time*3.154e+7\n",
        "  return t\n",
        "\n",
        "#setting some constant for future use\n",
        "PI = np.pi\n",
        "G_value = G.value\n",
        "\n",
        "# Below are two arrays that relate to the motion of 7 stars orbiting SgrA*\n",
        "# T is the orbital period of the stars\n",
        "# a is the semi-major axis which is a radius measurment for the elliptical orbits around the blackhole\n",
        "\n",
        "a_array = np.array([800,980,1750,1800,2290,2630,3300]) # in astronomical units (1 astronomical unit is the distance from the Earth to the Sun)\n",
        "T_array = np.array([11.5,15.2,36,38,54.4,67.2,94.1]) # in years\n",
        "\n",
        "T = year_s(T_array) # T in seconds\n",
        "a = au_to_m(a_array) # a in metres\n",
        "\n",
        "print(T)\n",
        "print(a)"
      ]
    },
    {
      "cell_type": "markdown",
      "metadata": {
        "id": "_9z8eY9pd1rB"
      },
      "source": [
        "# **Finding M in terms of a and P**\n",
        "\n",
        "---\n",
        "\n",
        "\n",
        "\n",
        "One of the many uses of Kepler's Law is finding the relationship between the period of an orbit ($T$), semi-major axis distance ($a$), and the mass of the objects in the system ($M_{tot}$). Let's remember Kepler's law:\n",
        "\n",
        "\\begin{equation}\n",
        "T^2 = \\frac{4\\pi^2}{G(M_{star} + M_{blackhole})}a^3\n",
        "\\end{equation}\n",
        "\n",
        "This formula can look intimidating, but there are ways to make it much simpler! For example, the blackhole we are considering here, SgrA, is a supermassive blackhole. So, as its name suggests, it is very heavy - much much heavier than all the stars in the Milky Way! This means that we can ignore the mass of the stars ($M_{star}$) in the formula. Doing this may seem a bit weird, but imagine like this: you wouldn't mind losing a few apples if you had millions of them.\n",
        "\n",
        "$\\textbf{1. What would the new Kepler's law be with regards to this? Change the equation accordingly.}$\n",
        "\n",
        "Great! We have an equation that looks more manageable. Now, all there is left to do is to rearrange the equation to have $M_{blackhole}$ on one side and all the other terms on the other.\n",
        "\n",
        "$\\textbf{2. Rearrange the new equation to find an expression describing $M_{blackhole}$ in terms of the other quantities.}$\n",
        "\n",
        "Perfect! We finally simplified Kepler's law to find what $M_{blackhole}$ would be in terms of the other quantities involved.\n",
        "\n",
        "Why do you think this process is important? Discuss with your teammates.\n",
        "\n",
        "After the discussion start the next section.\n",
        "\n",
        "$\\textbf{Solutions}$\n",
        "\n",
        "See the end of the notebook."
      ]
    },
    {
      "cell_type": "markdown",
      "metadata": {
        "id": "AhCvR1dlT3uM"
      },
      "source": [
        "#**Finding the uncertainty in M**\n",
        "\n",
        "---\n",
        "\n"
      ]
    },
    {
      "cell_type": "markdown",
      "metadata": {
        "id": "ywSKRBH5T7I8"
      },
      "source": [
        "Before beginning this section, give yourself a pat on the back because you just solved a problem that astronomers couldn't solve for hundreds of years! Now it is time to put this equation in use and calculate some real life values!\n",
        "\n",
        "First, we begin with writing the derived equation in our code. Make sure to read the comments.\n",
        "\n",
        "𝐒𝐞𝐞 𝐭𝐡𝐞 𝐟𝐮𝐧𝐜𝐭𝐢𝐨𝐧 𝐢𝐧 𝐭𝐡𝐞 𝐜𝐨𝐝𝐞 𝐛𝐥𝐨𝐜𝐤 𝐛𝐞𝐥𝐨𝐰 𝐚𝐧𝐝 𝐟𝐚𝐦𝐢𝐥𝐢𝐚𝐫𝐢𝐳𝐞 𝐲𝐨𝐮𝐫𝐬𝐞𝐥𝐟 𝐰𝐢𝐭𝐡 𝐢𝐭:"
      ]
    },
    {
      "cell_type": "code",
      "execution_count": null,
      "metadata": {
        "colab": {
          "base_uri": "https://localhost:8080/"
        },
        "id": "2u1pg7jrdUsx",
        "outputId": "a1485312-2a66-40bd-ad28-1ef6a9b02ed5"
      },
      "outputs": [
        {
          "output_type": "stream",
          "name": "stdout",
          "text": [
            "189279679268.1537\n"
          ]
        }
      ],
      "source": [
        "#We will be using the function mass_bh(a,T) to calculate the mass of the blackhole given the semi-major axis (a) and orbital period (P).\n",
        "#Use the example below for practice.\n",
        "\n",
        "#For advanced level fill in the function below and instead use that function for your calculations.\n",
        "\n",
        "#Advanced level: Write the function yourself\n",
        "def mass_bh_advanced(a,T):\n",
        "  '''\n",
        "  This function takes a (semi-major axis) in metres and T (period) in seconds (the data we are using already has everything in these units,\n",
        "  so you don't have to change anything). This function also uses some constants like pi and G (gravitational constant) which are taken from\n",
        "  python libraries.\n",
        "\n",
        "  The function calculates M based on the formula we derived earlier and it returns the value calculated.\n",
        "  Click the button below to reveal the solution to the function.\n",
        "  '''\n",
        "  M = ((4*PI**2)/G_value)*((a**3)/(T**2))#use the formula we derived above and write it in python code where M stands for the mass of the blackhole\n",
        "  return M\n",
        "\n",
        "#Example:\n",
        "a_example = 2 #in metres\n",
        "T_example = 5 #in seconds\n",
        "\n",
        "#now use the function mass_bh to get the mass of the blackhole by the given example values\n",
        "M_example = mass_bh(a_example, T_example)\n",
        "#this way, our code will 'call' the function mass_bh and the function will calculate the mass by the given values: a and T\n",
        "#then the calculated value will be assigned to the new parameter that we called M_example. Now, let's see what this is:\n",
        "print(M_example)"
      ]
    },
    {
      "cell_type": "code",
      "source": [
        "# @title Run this code block to check your function's correctness\n",
        "print(test.test_mass_bh(mass_bh))"
      ],
      "metadata": {
        "id": "xsZJb4EfhRnz"
      },
      "execution_count": null,
      "outputs": []
    },
    {
      "cell_type": "markdown",
      "metadata": {
        "id": "235cjGhbsgk7"
      },
      "source": [
        "Now that there is a function in our code that calculates the mass ($M$) given the period ($T$) and the average separation distance ($a$), we can use our data arrays to calculate the actual mass of the black hole ($M_{blackhole}$).\n",
        "\n",
        "You might notice that in the example above used only singular values, but we have a whole set of different $a$ and $T$ values. This is because we are performing the same measurement over and over again like you do in your lab classes.\n",
        "\n",
        "That is not an issue though, because python is smart enough to know that it is given a set of different numbers. So it will calculate separate values of M for each $a$ and $T$ in their arrays.\n",
        "\n",
        "Let's give it a try and see how it works out:\n",
        "\n",
        "$\\textbf{Write down the code to calculate the mass of the blackhole based on the given values by following the example above:}$"
      ]
    },
    {
      "cell_type": "code",
      "execution_count": null,
      "metadata": {
        "id": "y1ubSZNBUHUn",
        "colab": {
          "base_uri": "https://localhost:8080/"
        },
        "outputId": "518ab0d6-42a2-467a-8b0f-7323615acd6c"
      },
      "outputs": [
        {
          "output_type": "stream",
          "name": "stdout",
          "text": [
            "[7.70725443e+36 8.10991807e+36 8.23255347e+36 8.04036451e+36\n",
            " 8.07856202e+36 8.01962600e+36 8.07956517e+36]\n"
          ]
        }
      ],
      "source": [
        "#remember the code block above\n",
        "M = mass_bh(a, T)\n",
        "\n",
        "#Don't forget to print the list that has the maass of the blackhole\n",
        "print(M)"
      ]
    },
    {
      "cell_type": "markdown",
      "metadata": {
        "id": "XuKkVgFbQVH9"
      },
      "source": [
        "Perfect! We obtained the list for $M_{blackhole}$. However, as you might also notice, the numbers in this list are not all the same. This might bring up a few questions:\n",
        "\n",
        "$\\textbf{1. Why are the values of our list not all the same if they are all supposed to be the $M_{blackhole}$?}$\n",
        "\n",
        "$\\textbf{2. How can we know the true value of $M_{blackhole}$ based on this list?}$\n",
        "\n",
        "Discuss this with your groupmates.\n",
        "\n",
        "---\n",
        "The answer is Statistics.\n",
        "#**Statistics**\n",
        "---\n",
        "\n",
        "Wait, wait - don't run away now. Statistics is mostly done on computers! So all you have to do is to know what you are doing and which Python functions to use and you are good to go! Let's first see what kind of statistics we need to use and then we can work out our final results.\n",
        "\n",
        "In a scientific research, we always end up with an array of values that reflect the results of our study. Interestingly, they always have a similar shape when we plot them using histograms.\n",
        "\n",
        "**Note:** Histograms are the same thing as bar graphs that you learned in elementary school.\n",
        "\n",
        "This is caused by a theorem in statistics called the ***Central Limit Theorem***. Don't worry, you don't have to know what this is. If you are interested in learning more, you can watch [this video](https://youtu.be/zeJD6dqJ5lo?si=xsyJVFQBVU_AOzYE ) in your own time.\n",
        "\n",
        "Essentially, thanks to this theory, we learn that whenever you have an array with enough values, the **distribution** of these values have a certain look around its **mean value**.\n"
      ]
    },
    {
      "cell_type": "markdown",
      "metadata": {
        "id": "gmkXkeDYFnz5"
      },
      "source": [
        "$\\textbf{1. Discuss what the bolded terms mean. Remember the different ways to represent data you learned at school.}$\n",
        "\n",
        "I can hear you thinking \"*Enough with the theory talk, let's see some examples of this*\". **Run the code in the code block below.**\n",
        "\n",
        "**Note: You don't have to understand the code. Focus on the plot.**"
      ]
    },
    {
      "cell_type": "code",
      "execution_count": null,
      "metadata": {
        "id": "9jhD1tVYyXYc",
        "colab": {
          "base_uri": "https://localhost:8080/",
          "height": 504,
          "referenced_widgets": [
            "0b862d20cbd84ec78a70b41baa43285e",
            "7ca9ef01527d40c6aaa82414c409604d",
            "88a9d4dd5bfe4c57b19f2c5977d2e67d",
            "a80527460fd1474ea8b80813c90b0a56",
            "ef5f4422ba1945fc99b8ce9a3ea075d8",
            "e95768cb7c824496af677b6a6ceb563e",
            "9c955f1b6a6945619bd206ecc52a50f2"
          ]
        },
        "outputId": "61c48d76-728f-492c-cc3e-8cc77bfd85d7"
      },
      "outputs": [
        {
          "output_type": "display_data",
          "data": {
            "text/plain": [
              "interactive(children=(FloatSlider(value=1.0, description='STD:', max=50.0, readout_format='.1f', step=1.0), Ou…"
            ],
            "application/vnd.jupyter.widget-view+json": {
              "version_major": 2,
              "version_minor": 0,
              "model_id": "0b862d20cbd84ec78a70b41baa43285e"
            }
          },
          "metadata": {}
        }
      ],
      "source": [
        "gaussian_slider()"
      ]
    },
    {
      "cell_type": "markdown",
      "metadata": {
        "id": "pdqF5uZdycZg"
      },
      "source": [
        "The histogram above is created using a randomly generated set of numbers.\n",
        "\n",
        "**Note:** A *set* is basically a collection of numbers.\n",
        "\n",
        "In this graph, the x-axis shows the value in the set; the y-axis shows how many times that specific value appears - just like the histograms you have seen in maths class. The plotted line shows the **distribution** of the histogram.\n",
        "\n",
        "Now let's play a little with the slider above. First, move the slider to 3. Then, move it to 25.\n",
        "\n",
        "**What stays the same about the histogram's distribution?**\n",
        "\n",
        "You can see that the histogram changes a lot. But, the general shape of the graph (the plotted line) stays somewhat unchanged. This is a perfect example of the Central Limit Theorem. No matter how different the sets are, they *will* follow a similar shape.\n",
        "\n",
        "Also notice that all these sets are centered around the same value, 42. This is the **mean value** of the distribution. So, from this short demonstration, we can arrive at this conclusion:\n",
        "\n",
        "*Randomly generated numbers always follow a certain **distribution** around the **mean value**.*\n",
        "\n",
        "Now, let's take a break and connect some dots:\n",
        "1. Our purpose is to find a value that represents all the values in our array.\n",
        "2. By using the Central Limit Theorem, we know that the value must be centered around a **mean value**.\n",
        "\n",
        "**Does this mean that finding the mean value is enough to represent our data array with only one number?**\n",
        "\n",
        "Discuss with your groupmates.\n",
        "\n",
        "\n",
        "---\n",
        "\n",
        "Well... Not really. To understand why only the **mean value** is not enough, play around with the slider again. Notice that as you play with the slider, the computer generates different sets. All these different sets are centered around the **mean value** of 42. So, using only the **mean value** is not enough, because there can be other sets that share the same **mean value**.\n",
        "\n",
        "So we are going to need another parameter that will help us represent our data.\n",
        "\n",
        "**What do you notice that is different in all data sets when you move the slider?**\n",
        "\n",
        "You can see that the width of the **distribution** is changed every time you move the slider. Let's see a better example of this.\n",
        "\n",
        "**Run the code block below.**\n",
        "\n"
      ]
    },
    {
      "cell_type": "code",
      "execution_count": null,
      "metadata": {
        "id": "pbf39b6-yhkP",
        "colab": {
          "base_uri": "https://localhost:8080/",
          "height": 564
        },
        "outputId": "8bd13125-2f6e-4499-a42f-5e8bbd7a3a5a"
      },
      "outputs": [
        {
          "output_type": "display_data",
          "data": {
            "text/plain": [
              "<Figure size 1000x600 with 1 Axes>"
            ],
            "image/png": "[encoded data removed]"
          },
          "metadata": {}
        }
      ],
      "source": [
        "red_set = make_gaussian(42,3, 'r')\n",
        "green_set = make_gaussian(42,25, '#005AB5')\n",
        "\n",
        "std_plot(green_set, red_set, 42, 25, 3, '#005AB5', 'r')"
      ]
    },
    {
      "cell_type": "markdown",
      "metadata": {
        "id": "6nCVfDwWyiac"
      },
      "source": [
        "You can notice that, apart from their colors, the two plots look alike. Well, look a bit closer.\n",
        "\n",
        "**What is the difference between the red plot and the green plot? Focus on the x-axis.**\n",
        "\n",
        "The numbers on the x-axis of the plots are different. The values in the red histogram go to around 52, while in the green histogram, there are values as high as 125.\n",
        "\n",
        "This is a big difference in the two sets. Even though they are centered around 42, the red histogram has less **variance** in its values compared to the green histogram. That is why, only using the **mean value** to represent the entire set is not enough. We must introduce another term that tells us about the **variance** of the sets from the **mean value**. That value in Statistics is called the **Standard Deviation**.\n",
        "\n",
        "We can easily calculate the Standard Deviation of a set by using Python tools as we are going to see soon. Before that though, take a look at how the standard deviation of the red and green sets look like in the above graph.\n",
        "\n",
        "---\n",
        "\n",
        "Do you see how different the two arrays are despite having the same mean value?\n",
        "\n",
        "The Standard Deviation of each **distribution** is given by the orange and purple horizontal lines. They show how much the values *deviate* (**vary**) from the mean value. Now, let's connect some dots for the final time:\n",
        "1. We are looking for a way to represent our data set with a number that summarizes our entire data set.\n",
        "2. We learned that using only the **mean value** of the set is not enough.\n",
        "3. We found that the **standard deviation** tells us how much the values **vary** from the mean value.\n",
        "4. What if we used both the **mean value** and **standard deviation** to represent our data?\n",
        "\n",
        "**Is using the mean value and standard deviation of a set enough?**\n",
        "\n",
        "Well, yes! Using both the **mean value** and the **standard deviation** is enough for us to represent our entire data set. One tells the center of our data and the other tells how much our data changes compared to the center.\n",
        "\n",
        "---\n",
        "\n",
        "\n",
        "Now that we know about **mean value** and **standard deviation**, let's do an example to calculate them using Python:\n",
        "\n",
        "$\\textbf{Follow the instructions in the code block below to find the Mean and the Standard Deviation of the Example List:}$\n"
      ]
    },
    {
      "cell_type": "code",
      "execution_count": null,
      "metadata": {
        "id": "kFq0uwCHyk-d",
        "colab": {
          "base_uri": "https://localhost:8080/"
        },
        "outputId": "6f39f4e3-77d9-484f-d51d-adf9ee35730b"
      },
      "outputs": [
        {
          "output_type": "stream",
          "name": "stdout",
          "text": [
            "41.142857142857146\n",
            "22.087026388671642\n"
          ]
        }
      ],
      "source": [
        "#let's first write down the list. Remember the introduction to python module.\n",
        "list_1 = [42, 18, 75, 9, 63, 30, 51]\n",
        "'''\n",
        "The Numpy library has functions that calculate the mean value and the standard deviation value of a list. Let's see them:\n",
        "To find the mean, use the np.mean() function.\n",
        "To find the standard deviation, use the np.std() function.\n",
        "Example use:\n",
        "mean = np.mean(list_name)\n",
        "st_dev = np.std(list_name)\n",
        "\n",
        "'''\n",
        "mean = np.mean(list_1)\n",
        "st_dev = np.std(list_1)\n",
        "#Don't forget to print out your values.\n",
        "print(mean)\n",
        "print(st_dev)"
      ]
    },
    {
      "cell_type": "markdown",
      "metadata": {
        "id": "UIpwng99yv6v"
      },
      "source": [
        "$\\textbf{After seeing what the Standard Deviation stands for, what do you think the value we found means?}$\n",
        "\n",
        "Discuss with your groupmates.\n",
        "\n",
        "After the discussion, use the code block below to find the average value and standard deviation of the blackhole mass list."
      ]
    },
    {
      "cell_type": "code",
      "execution_count": null,
      "metadata": {
        "id": "AJSvLkCayyh9",
        "colab": {
          "base_uri": "https://localhost:8080/"
        },
        "outputId": "2e858d4d-bf41-493e-b040-069a4968f524"
      },
      "outputs": [
        {
          "output_type": "stream",
          "name": "stdout",
          "text": [
            "8.03826338031651e+36\n",
            "1.493469334029707e+35\n"
          ]
        }
      ],
      "source": [
        "#use the example as a guide and don't forget to print out your value\n",
        "\n",
        "M_mean = np.mean(M)\n",
        "M_st_dev = np.std(M)\n",
        "\n",
        "print(M_mean)\n",
        "print(M_st_dev)"
      ]
    },
    {
      "cell_type": "markdown",
      "metadata": {
        "id": "7MJmeczHy0Hf"
      },
      "source": [
        "$\\textbf{What does this Standard Deviation mean? Is it too high? What does it mean when it is too high or too low?}$\n",
        "\n",
        "Discuss with your groupmates.\n",
        "\n",
        "Standard deviation and the mean value of a set are important values that represent the data set. They are widely used in astronomy and other sciences to analyze large amounts of data and have many different purposes. In our case, we will be using the standard deviation in the blackhole mass data set as the uncertainty of the mean - which stands as the observed mass of the SgrA* supermassive blackhole.\n",
        "\n",
        "Don't forget to round the numbers up to three significant figures/digits and use scientific notation to represent the final result. It is important to write our mean value and the uncertainty with the same amount of signficant digits.\n",
        "\n",
        "One final final step is to convert kg units to Solar Mass ($M_{\\odot}$) units. These units represent how much an object weighs compared to our Sun.\n",
        "\n",
        "**Use the fact that our Sun is $1.989 \\times 10^{30}$ kg to convert $M_{SgrA*}$ into Solar Mass units.**"
      ]
    },
    {
      "cell_type": "code",
      "execution_count": null,
      "metadata": {
        "id": "-amxGwUfAniL",
        "colab": {
          "base_uri": "https://localhost:8080/"
        },
        "outputId": "91b7db8f-3dfc-483b-c36c-ce3a03c476b0"
      },
      "outputs": [
        {
          "output_type": "stream",
          "name": "stdout",
          "text": [
            "4041359.165568883\n",
            "75086.44213321804\n"
          ]
        }
      ],
      "source": [
        "#Create a variable that gives our Sun's mass in kgs:\n",
        "sun_mass_kg = 1.989 * 10**30 #kg/Solar mass\n",
        "\n",
        "#Remember that M_mean is in kg as well.\n",
        "#HINT: Think about how many Suns are in M_mean.\n",
        "M_mean_solar = M_mean/sun_mass_kg\n",
        "\n",
        "#Don't forget to do the same operation on M_st_dev as well! This is called uncertainty propagation and we will see a more complicated example at the end.\n",
        "M_st_dev_solar = M_st_dev/sun_mass_kg\n",
        "\n",
        "#Print the values\n",
        "print(M_mean_solar)\n",
        "print(M_st_dev_solar)"
      ]
    },
    {
      "cell_type": "markdown",
      "metadata": {
        "id": "_gdK1AbZAn9q"
      },
      "source": [
        "Now, write your solution in the same format as before: 3 significant figures and use scientific notation!\n",
        "\n",
        "Bravo! You have calculated the mass of the supermassive blackhole that sits in the center of our galaxy! Now, you can check with [Wikipedia](https://en.wikipedia.org/wiki/Sagittarius_A*) or some other source to verify our result. You will see that our value may not fit with the values from the other sources.\n",
        "\n",
        "$\\textbf{Discuss with your groupmates about why our result can be different from the other results? How can we improve our result to fit the real value better?}$\n",
        "\n",
        "**After your discussion, start the next exercise which will teach you a better way to calculate the mass of the blackhole more accurately.**"
      ]
    },
    {
      "cell_type": "markdown",
      "metadata": {
        "id": "EDWgc-PLdVA0"
      },
      "source": [
        "##**Finding $M_{bh}$ Using An Algorithm**\n",
        "\n",
        "---\n",
        "\n"
      ]
    },
    {
      "cell_type": "markdown",
      "metadata": {
        "id": "ivwKk5PjfNyF"
      },
      "source": [
        "The above exercise has given you a great set of tools to find the mass (with uncertainty) of a blackhole. We'll now present another method of doing the exact same thing.\n",
        "\n",
        "\n"
      ]
    },
    {
      "cell_type": "markdown",
      "metadata": {
        "id": "xsANRBTStBHk"
      },
      "source": [
        "**Why**? Because astronomers are lazy.\n",
        "\n"
      ]
    },
    {
      "cell_type": "markdown",
      "metadata": {
        "id": "ACVuN0x9tCvx"
      },
      "source": [
        "\n",
        "Jokes aside, computers are much better at doing large sets of computations than humans so we should always try to exploit this power and take as much of the load off of us as we can.\n",
        "\n",
        "Instead we'll use a function in python that can, in only a couple lines of code, find $\\frac{G}{4\\pi^2}M_{blackhole}$ with uncertainty. From that, we will use some algebra and isolate $M_{blackhole}$ itself.\n",
        "\n"
      ]
    },
    {
      "cell_type": "markdown",
      "metadata": {
        "id": "qJzeyhsRtJb4"
      },
      "source": [
        "Before we fit our black hole data lets start with a fitting tutorial where the variables and data are general so that you can apply the same process to any data you want to fit in the future. Its sort of like a jazz musician learning their chords and scales so that they are ready for any gig they are called to do.\n",
        "\n",
        "**The road map for fitting a linear relationship is as follows:**\n",
        "\n",
        "1. Load and plot the data\n",
        "2. Define a fitting equation\n",
        "3. Fit the loaded data to the fitting equation\n",
        "4. Print the slope with uncertainties and plot everything.\n",
        "\n",
        "Lets get started by loading the data (\"loading data\" means assigning variable names to data in python so we can use them).\n",
        "\n",
        "$\\textbf{Edit the block of code below to load the data:}$"
      ]
    },
    {
      "cell_type": "code",
      "execution_count": null,
      "metadata": {
        "id": "yi2yba2NgVfw"
      },
      "outputs": [],
      "source": [
        "# The following code creates random X and Y data. Its not important making sense\n",
        "# of the meaning in the code below because its essentially simulating a random experiment.\n",
        "# For example X could be age of people and Y could be heights. For the black hole, the X and Y\n",
        "# data are oribtal periods and orbital radii.\n",
        "\n",
        "# 1. Load Data\n",
        "X = np.random.normal(3, 1, 100) # Creates random data with inputs\n",
        "Y = 0.8 * (X + np.random.normal(0, 0.1, 100)) + 0.66 # Creates random outputs"
      ]
    },
    {
      "cell_type": "code",
      "execution_count": null,
      "metadata": {
        "id": "Svyg2diCglZ0"
      },
      "outputs": [],
      "source": [
        "print(X,Y) # See the data"
      ]
    },
    {
      "cell_type": "markdown",
      "metadata": {
        "id": "TUR_wsN2hr6m"
      },
      "source": [
        "What do you notice about the data you printed above? It's not very clear what is going on. Instead we will now plot the data. Plotting the data will take those large sets of numbers above and represent them in a way that we can understand."
      ]
    },
    {
      "cell_type": "markdown",
      "metadata": {
        "id": "LB0Sn_bqstiM"
      },
      "source": [
        "\n",
        "Plotting falls under the topic of \"data visualisation\" in science. People that do science and work with data need to represent their findings in clear and coherant ways so that they can understand and explain it to people other than themselves. For example, If I was a leading scientist that did ten-thousand IQ tests but I represented my findings in the form of an Excel spreadsheet or like the data above, I would be laughed at. However, If I plotted the scores using a [histogram](https://en.wikipedia.org/wiki/Histogram), I would discover the famous [IQ Bell Curve](https://en.wikipedia.org/wiki/Normal_distribution)."
      ]
    },
    {
      "cell_type": "markdown",
      "metadata": {
        "id": "lSOflrU-swkK"
      },
      "source": [
        "But back to the topic at hand.\n",
        "\n",
        "\n",
        "$\\textbf{Edit the block of code below to plot the data:}$"
      ]
    },
    {
      "cell_type": "code",
      "execution_count": null,
      "metadata": {
        "id": "tDfjZVzBmV8m"
      },
      "outputs": [],
      "source": [
        "# Below defines the skeleton for an X vs. Y plot using matplot.library\n",
        "# There are a ton of things you can customize so I'll drop the basic skeleton below and\n",
        "# a more personalized plot example after. Play around as much as you can and make something interesting!\n",
        "\n",
        "plt.figure()                        # Tells python its time to plot\n",
        "plt.scatter(X, Y)                   # Creates a scatter plot of (X, Y)\n",
        "\n",
        "plt.title(\"Edit Here\")              # Adds a title between the quotes\n",
        "plt.xlabel(\"Edit Here\")             #      an axis label for x\n",
        "plt.ylabel(\"Edit Here\")             #      an axis label for y\n",
        "\n",
        "# The below code is my personal choice of data visualisation, feel free to use it or make your own going forward.\n",
        "\n",
        "plt.figure()\n",
        "plt.scatter(X, Y, color = \"crimson\", marker = \"*\", s = 50, label = \"Data points\", alpha = 0.7 ) # Colour, Dot Style, Size, Legend Label, Opacity.\n",
        "\n",
        "plt.title(\"Y vs. X\")\n",
        "plt.xlabel(\"X data\")\n",
        "plt.ylabel(\"Y data\")\n",
        "\n",
        "plt.grid(\"on\")                    # Adds a grid to the plot\n",
        "plt.legend()                      # Throws on a legend for your scatter label"
      ]
    },
    {
      "cell_type": "markdown",
      "metadata": {
        "id": "IMnJUn21nSPB"
      },
      "source": [
        "Take some time to mess around with the different settings on your plots. Think critically about what makes a good plot and a bad plot and briefly discuss the impact that the following points have on the efficacy of a plot with your group:\n",
        "\n",
        "1. Title and labels\n",
        "2. Marker size and style (when would you need to have a different marker style?)\n",
        "3. Colours (can all people see the same colours?)\n",
        "\n",
        "Its interesting to note that a huge effort is put into teaching university students how to represent their data in an effective way because it is such a crucial aspect of scientific research. It's a skill akin to essay writing. If you want to keep messing around with the different settings, I'll provide the manual for plt.scatter [here](https://matplotlib.org/stable/api/_as_gen/matplotlib.pyplot.scatter.html).\n",
        "\n"
      ]
    },
    {
      "cell_type": "markdown",
      "metadata": {
        "id": "ibMxlcizgpJa"
      },
      "source": [
        "**What do you notice about the data you just plotted?**\n",
        "\n",
        "\n",
        "The data follows a clear linear trend.\n",
        "\n",
        "$\\texttt{curve_fit}$ will draw the line of best fit using an algorithm called ['least-squares'](https://en.wikipedia.org/wiki/Regression_analysis). In the case of the data above, $\\texttt{curve_fit}$ will create a line of best fit in the form $y = mx+ b$ and experiment with the slope and intercept until it thinks its found the best line. The specifics are rather involved but you can get an idea of what $\\texttt{curve_fit}$ is doing by changing the sliders on the plot below."
      ]
    },
    {
      "cell_type": "code",
      "execution_count": null,
      "metadata": {
        "colab": {
          "base_uri": "https://localhost:8080/",
          "height": 586,
          "referenced_widgets": [
            "227dc714603b4cea8e7483fc8602915b",
            "48169273e5cc4500823fb4eafbfc4dc2",
            "8900e21668694466b021f9f07fa2a5e9",
            "05887cb689064af0b08b066e77ae83f7",
            "1ccf418bd04946f49e1e88e39773b8db",
            "1e90cffed10d4650a79a9c80a1970604",
            "f660ad0cf9ee46599d894bf5374bf8a4",
            "e5fd4622a2744eb9a2a3fad6b92153ab",
            "6a260d951f0f4651baa830625713ec2b",
            "5bb6a2e495ca464faae5973b81894319"
          ]
        },
        "id": "1Ao456oXiwEc",
        "outputId": "04ba1f16-5ed4-4f16-b9f9-6657707e6623"
      },
      "outputs": [
        {
          "output_type": "display_data",
          "data": {
            "text/plain": [
              "interactive(children=(FloatSlider(value=1.0, description='m', max=5.0, readout_format='.1f'), FloatSlider(valu…"
            ],
            "application/vnd.jupyter.widget-view+json": {
              "version_major": 2,
              "version_minor": 0,
              "model_id": "227dc714603b4cea8e7483fc8602915b"
            }
          },
          "metadata": {}
        }
      ],
      "source": [
        "# RUN THIS CELL\n",
        "\n",
        "def line_maker(m,b):\n",
        "    x = X\n",
        "    y = m*x + b\n",
        "    plt.figure(figsize=(10, 6))\n",
        "    plt.plot(x, y)\n",
        "    plt.scatter(X, Y, color = \"crimson\", marker = \"*\", s = 50, label = \"Data points\", alpha = 0.7 )\n",
        "\n",
        "    plt.title(\"Y vs. X\")\n",
        "    plt.xlabel(\"X data\")\n",
        "    plt.ylabel(\"Y data\")\n",
        "    plt.xlim(np.min(X)-1,max(X)+1)\n",
        "    plt.ylim(np.min(Y)-1,max(Y)+1)\n",
        "    plt.grid(\"on\")\n",
        "    plt.legend()\n",
        "    plt.title(f'')\n",
        "    plt.xlabel('')\n",
        "    plt.ylabel('')\n",
        "    plt.grid(True)\n",
        "    plt.show()\n",
        "\n",
        "# Create an interactive widget\n",
        "interactive_plot = interactive(line_maker, m=widgets.FloatSlider(\n",
        "    value=1.0,\n",
        "    min=0.0,\n",
        "    max=5.0,\n",
        "    step=0.1,\n",
        "    description='m',\n",
        "    continuous_update=True,\n",
        "    orientation='horizontal',\n",
        "    readout=True,\n",
        "    readout_format='.1f'\n",
        "),b=widgets.FloatSlider(\n",
        "    value=1.0,\n",
        "    min=-5.0,\n",
        "    max=5.0,\n",
        "    step=0.1,\n",
        "    description='b',\n",
        "    continuous_update=True,\n",
        "    orientation='horizontal',\n",
        "    readout=True,\n",
        "    readout_format='.1f'))\n",
        "\n",
        "# Display the interactive widget\n",
        "display(interactive_plot)"
      ]
    },
    {
      "cell_type": "markdown",
      "source": [
        "How does your line of best fit look?\n",
        "\n",
        "What you have just done is manually try to fit a curve to the data. Are you confident in your fit? Could it be better? The problem with manually fitting the line is that while you can get a general idea of your data, you can't be sure that your fit is the **best** possible fit.\n",
        "\n",
        "$\\texttt{curve_fit}$ solves this problem as it applies an optimization algorithm to make sure you have the best fit.\n",
        "\n",
        "Lets get into it!\n",
        "\n",
        "---\n"
      ],
      "metadata": {
        "id": "J7yd3psvLxbi"
      }
    },
    {
      "cell_type": "markdown",
      "metadata": {
        "id": "0NnTzsxarrMm"
      },
      "source": [
        "\n",
        "\n",
        "To get started we need to define a fitting polynomial. Don't be intimidated though because a fitting polynomial is just the type of line you want $\\texttt{curve_fit}$ to draw.\n",
        "\n",
        "\n",
        "\\\n",
        "**If you don't know what polynomials are you've likley seen them. Here are a few examples:**\\\n",
        "$y = x$ \\\n",
        "$y = x^2$ + 5 \\\n",
        "$y = 505x^{6} - 7x + 42$ \\\n",
        "They are the equations containing powers of x.\n",
        "\n",
        "\n",
        "\\\\\n",
        "The $\\texttt{curve_fit}$ function will take three inputs which are the X data, Y data, and a parameter relating to the polynomial called its \"degree\". The degree of a polynomial is given by the highest power of x that appears in it. The above polynomials have degree: 1, 2, and 6. With these three inputs, it will try and fit the X and Y data to the shape given by the polynomial.\n",
        "\n",
        "By looking at our X and Y data above we see we want to draw a fit of $y = mx + b$, a straight line. But if our data looked more curved, we could for example, fit a parabola of the form $y = x^2$.\n",
        "\n",
        "$\\textbf{Edit the block of code below to define a linear fitting polynomial:}$"
      ]
    },
    {
      "cell_type": "code",
      "execution_count": null,
      "metadata": {
        "id": "fElbLssKt6im"
      },
      "outputs": [],
      "source": [
        "# Lets quickly define the line equation which python can use to fit with\n",
        "\n",
        "def line(x,m,b):\n",
        "    '''\n",
        "    Curve_fit is a powerful tool because we can ask it to do many types of fits.\n",
        "\n",
        "    For our purposes though, we want to define a fit of the line form.\n",
        "    Define the line form below using x, m, and b (use * to multiply and + to add).\n",
        "    '''\n",
        "    y =   m*x + b\n",
        "\n",
        "    return(y)\n",
        "\n",
        "# You have now defined a linear function called \"line\""
      ]
    },
    {
      "cell_type": "code",
      "source": [
        "# @title Default Run the code block below to check your function's correctness\n",
        "print(test.test_line(line))"
      ],
      "metadata": {
        "id": "HtfQU72zhjei"
      },
      "execution_count": null,
      "outputs": []
    },
    {
      "cell_type": "markdown",
      "metadata": {
        "id": "1wHqItvTuf8n"
      },
      "source": [
        "Finally we are ready to use the $\\texttt{curve_fit}$ function. Like any function, it takes inputs and gives outputs. In this case, $\\texttt{curve_fit}$ takes 3 inputs: the fitting polynomial, X data,Y data. And it returns two outputs, the fitting parameters (slope and y-intercept) and a value related to the uncertainty in each of those parameters.\n",
        "\n"
      ]
    },
    {
      "cell_type": "markdown",
      "metadata": {
        "id": "flMDKFMStOK9"
      },
      "source": [
        "Behind the scenes, $\\texttt{curve_fit}$ is using a branch of math called 'linear algebra' which involes large scale computations with what are called 'matricies' (singular: matrix). It's not necessary to try and wrap your head around them right now, but matricies speed up computation drastically and are used for all sorts of large scale computing like 3D-rendering, stock market analysis, and of course Astronomy.\n",
        "\n",
        "$\\textbf{Edit the block of code below and run the fitting function:}$"
      ]
    },
    {
      "cell_type": "code",
      "execution_count": null,
      "metadata": {
        "id": "D502Reeov7fv"
      },
      "outputs": [],
      "source": [
        "# Call the curve_fit function and define the two important outputs (\"calling a function\" means running the function).\n",
        "\n",
        "m, m_var = curve_fit(line, X, Y)       # Change 'FIT' to the name of your linear function you just defined above.\n",
        "                                        # The m output is the slope, the m_var output is the variance.\n",
        "                                        # We know how to find the uncertainty from the variance by just taking the square root:\n",
        "\n",
        "m_delta = np.sqrt(np.diag(m_var))       # Just like in the previous exercise, the uncertainty is the\n",
        "                                        # standard deviation which is the square root of the variance\n",
        "                                        # It's not overly significant, but if you're curious about the np.diag term,\n",
        "                                        # ask a helper (it'll test their knowledge too :)"
      ]
    },
    {
      "cell_type": "code",
      "execution_count": null,
      "metadata": {
        "id": "o16RzCbvwi6c",
        "colab": {
          "base_uri": "https://localhost:8080/"
        },
        "outputId": "c90d4cb7-0b56-4f6c-aff6-db293f49d714"
      },
      "outputs": [
        {
          "output_type": "stream",
          "name": "stdout",
          "text": [
            "The slope of the line is: 0.8105138882623057 The y-intercept is: 0.627941533669094\n",
            "The uncertainty in the value of m is: 0.00788990699119406 The uncertainty in the y-intercept value, b,  is: 0.02516561831976562\n"
          ]
        }
      ],
      "source": [
        "print(\"The slope of the line is:\", m[0], \"The y-intercept is:\", m[1]) # m[0] is the slope and m[1] is the intercept.\n",
        "                                                                      # You can also just print m itself.\n",
        "print(\"The uncertainty in the value of m is:\", m_delta[0], \"The uncertainty in the y-intercept value, b,  is:\", m_delta[1])"
      ]
    },
    {
      "cell_type": "markdown",
      "metadata": {
        "id": "elpH7Qm7xJ_N"
      },
      "source": [
        "You've done it! It took a bit of setup, but the block above is the powerful two lines of code mentioned earlier. Notice that the uncertainty in the m and b values is small which is what we like to see. Lets quickly plot the line of best fit over the data and move on to the black hole.\n",
        "\n",
        "$\\textbf{Edit the block of code below to visualise the data:}$"
      ]
    },
    {
      "cell_type": "code",
      "execution_count": null,
      "metadata": {
        "id": "keuoO4Ohy2F_",
        "colab": {
          "base_uri": "https://localhost:8080/",
          "height": 490
        },
        "outputId": "e9cee6f5-5d97-4853-e8fb-acee28af30b0"
      },
      "outputs": [
        {
          "output_type": "execute_result",
          "data": {
            "text/plain": [
              "<matplotlib.legend.Legend at 0x7ff7a22ef460>"
            ]
          },
          "metadata": {},
          "execution_count": 22
        },
        {
          "output_type": "display_data",
          "data": {
            "text/plain": [
              "<Figure size 640x480 with 1 Axes>"
            ],
            "image/png": "[encoded data removed]"
          },
          "metadata": {}
        }
      ],
      "source": [
        "# We'll quickly copy the code to get our original plot.\n",
        "# You can either continue with the plot below or you can delete it and put in your personalised plot.\n",
        "\n",
        "# Plot\n",
        "##############\n",
        "plt.figure()\n",
        "\n",
        "plt.scatter(X, Y, color = \"crimson\", marker = \"*\", s = 50, label = \"Data points\", alpha = 0.7 ) # Colour, Dot Style, Size, Legend Label, Opacity.\n",
        "# LINE WILL GO HERE LATER #\n",
        "\n",
        "plt.title(\"Y vs. X\")\n",
        "plt.xlabel(\"X data\")\n",
        "plt.ylabel(\"Y data\")\n",
        "\n",
        "plt.grid(\"on\")\n",
        "plt.legend()\n",
        "##############"
      ]
    },
    {
      "cell_type": "code",
      "execution_count": null,
      "metadata": {
        "id": "WMNs4qrtzlsG",
        "colab": {
          "base_uri": "https://localhost:8080/",
          "height": 448
        },
        "outputId": "1d79bc66-b519-4e94-eca7-42eb61c0f3d2"
      },
      "outputs": [
        {
          "output_type": "execute_result",
          "data": {
            "text/plain": [
              "[<matplotlib.lines.Line2D at 0x7ff7a172ac80>]"
            ]
          },
          "metadata": {},
          "execution_count": 23
        },
        {
          "output_type": "display_data",
          "data": {
            "text/plain": [
              "<Figure size 640x480 with 1 Axes>"
            ],
            "image/png": "[encoded data removed]"
          },
          "metadata": {}
        }
      ],
      "source": [
        "# Now we want to plot a line on top of everything we've already done\n",
        "# We can do that by immediately plotting the line after the scatter (where I put # LINE WILL GO HERE # above).\n",
        "\n",
        "plt.plot(X, line(X,m[0],m[1]))\n",
        "\n",
        "# ^^^ This line plots your Y as a function of X where Y is the line y = mx + b and m is replaced with m[0] and b with m[1]"
      ]
    },
    {
      "cell_type": "code",
      "execution_count": null,
      "metadata": {
        "id": "l94VXCvi0Pf5",
        "colab": {
          "base_uri": "https://localhost:8080/",
          "height": 490
        },
        "outputId": "840323c4-4e15-4869-9124-6878712f8500"
      },
      "outputs": [
        {
          "output_type": "execute_result",
          "data": {
            "text/plain": [
              "<matplotlib.legend.Legend at 0x7ff79f575840>"
            ]
          },
          "metadata": {},
          "execution_count": 24
        },
        {
          "output_type": "display_data",
          "data": {
            "text/plain": [
              "<Figure size 640x480 with 1 Axes>"
            ],
            "image/png": "[encoded data removed]"
          },
          "metadata": {}
        }
      ],
      "source": [
        "# The final product should be\n",
        "plt.figure()\n",
        "\n",
        "plt.scatter(X, Y, color = \"crimson\", marker = \"*\", s = 50, label = \"Data points\", alpha = 0.7 ) # Colour, Dot Style, Size, Legend Label, Opacity.\n",
        "plt.plot(X, line(X,m[0],m[1]), color = \"crimson\", label = \"Linear Fit\", alpha = 0.5) # I added some customisation\n",
        "\n",
        "plt.title(\"Y vs. X\")\n",
        "plt.xlabel(\"X data\")\n",
        "plt.ylabel(\"Y data\")\n",
        "\n",
        "plt.grid(\"on\")\n",
        "plt.legend()"
      ]
    },
    {
      "cell_type": "markdown",
      "metadata": {
        "id": "B_XzlUeV1BeW"
      },
      "source": [
        "How does the $\\texttt{curve_fit}$ line of best fit compare to yours?\n",
        "\n",
        "Now that you have done an arbitrary example with all the steps, we can proceed with the black hole. The important step that sets apart the black hole from the precious example is getting the data to the form of $y = mx + b$ which we will go over now.\n",
        "\n",
        "$\\textbf{Follow the code below:}$"
      ]
    },
    {
      "cell_type": "code",
      "execution_count": null,
      "metadata": {
        "id": "N3gT7hmk2Thn"
      },
      "outputs": [],
      "source": [
        "# Edit this\n",
        "\n",
        "# This might seem strange at first but lets scatter plot the 'T' and 'a' data in the form a^3 vs. T^2\n",
        "# Cube the 'a' array and square the 'T' array below, remember if I want to do exponents in python I use double stars ** (ex. 7**2 = 49)\n",
        "T_squared = T**2\n",
        "a_cubed = a**3"
      ]
    },
    {
      "cell_type": "code",
      "execution_count": null,
      "metadata": {
        "id": "Q1R0Bsnt2j5R",
        "colab": {
          "base_uri": "https://localhost:8080/",
          "height": 529
        },
        "outputId": "214ea604-5d67-4af5-9e53-6ae206322b65"
      },
      "outputs": [
        {
          "output_type": "stream",
          "name": "stderr",
          "text": [
            "WARNING:matplotlib.legend:No artists with labels found to put in legend.  Note that artists whose label start with an underscore are ignored when legend() is called with no argument.\n"
          ]
        },
        {
          "output_type": "execute_result",
          "data": {
            "text/plain": [
              "<matplotlib.legend.Legend at 0x7ff79f47a530>"
            ]
          },
          "metadata": {},
          "execution_count": 27
        },
        {
          "output_type": "display_data",
          "data": {
            "text/plain": [
              "<Figure size 640x480 with 1 Axes>"
            ],
            "image/png": "[encoded data removed]"
          },
          "metadata": {}
        }
      ],
      "source": [
        "# Edit this\n",
        "\n",
        "##############\n",
        "plt.figure()\n",
        "\n",
        "plt.scatter(T_squared, a_cubed) # Change these to the T^2 data on the X axis and and a^3 on the Y axis (and get rid of \"\" signs)\n",
        "\n",
        "plt.title(\"Y vs. X\") # Keep the \"\" signs here and change the text in between them to aproppriate names\n",
        "plt.xlabel(\"X data\")\n",
        "plt.ylabel(\"Y data\") # Feel free to customize everything like in previous plots\n",
        "\n",
        "plt.grid(\"on\")\n",
        "plt.legend()\n",
        "##############"
      ]
    },
    {
      "cell_type": "markdown",
      "metadata": {
        "id": "ovj7-m9C34xk"
      },
      "source": [
        "Great we have a plot of the data where the X axis is $T^2$ and the Y axis is $a^3$. But why did we choose to square and cube our variables? Its so we can rearrange Kepler's law into a form of $y = mx + b$.  \n",
        "\n",
        "The next paragraph will explain this in more detail."
      ]
    },
    {
      "cell_type": "markdown",
      "metadata": {
        "id": "K1_1wq6Q4oG-"
      },
      "source": [
        "You should notice the graph shows the same linear trend in the data as before. It might not seem obvious, but if we can find the slope of the line by fitting the form of $y = mx + b$ with $\\texttt{curve_fit}$ we can do some math with the slope and find the mass of the black hole. This process will essentially be the same as the one we just did but with real data.\n",
        "\n",
        "First, we need to write out Kepler's law in the form of $y = mx + b$ :\n",
        "\n",
        "\\begin{equation}\n",
        "{T^2}= \\frac{4\\pi^2}{GM_{blackhole}}{a^3} \\tag{Kepler's Law}\n",
        "\\end{equation}\n",
        "\\\n",
        "Since our graph plots $a^3$ on the y-axis and $T^2$ on the x-axis, we can write it in line-form where b = 0.\n",
        "\n",
        "\\begin{equation}\n",
        "Y = \\left(\\frac{GM_{blackhole}}{4\\pi^2}\\right)X + 0\n",
        "\\end{equation}\n",
        "\\\n",
        "\\begin{equation}\n",
        "a^3 = \\left(\\frac{GM_{blackhole}}{4\\pi^2}\\right)T^2 + 0 \\tag{re-written}\n",
        "\\end{equation}\n",
        "\\\n",
        "So Y = $a^3$ and X = $T^2$. This means that the slope of the line in the graph is the term infront of $T^2$:\\\n",
        "\\\n",
        "\\begin{equation}\n",
        "m = \\frac{GM_{blackhole}}{4\\pi^2} = \\frac{\\text{Rise}}{\\text{Run}}\n",
        "\\end{equation}\n",
        "\\\n",
        "Take a moment to really understand how and why the slope of our graph is the value above before moving on. Feel free to ask for further explanation.\n",
        "\n",
        "You'll notice that the mass of the blackhole is contained in the slope of the graph that we just plotted. It is multiplied and divided by some known constants as well but if we can find the value of the slope of the graph using $\\texttt{curve_fit}$ then we will know $m$ and can solve for $M_{blackhole}$:\n",
        "\n",
        "\\begin{equation}\n",
        "M_{blackhole} = \\frac{4\\pi^2}{G}m\n",
        "\\end{equation}\n",
        "\n",
        "\n",
        "$\\textbf{Using the polynomial fit and code you've already written to find the slope m of the graph $a^3$ vs. $T^2$.}$"
      ]
    },
    {
      "cell_type": "code",
      "execution_count": null,
      "metadata": {
        "id": "FS880pm-bcls"
      },
      "outputs": [],
      "source": [
        "# Run this again, its the fitting function but specifically for b = 0\n",
        "\n",
        "def line(x,m):\n",
        "    y = m*x + 0\n",
        "    return(y)"
      ]
    },
    {
      "cell_type": "code",
      "execution_count": null,
      "metadata": {
        "id": "kt4oEkjO8VtZ"
      },
      "outputs": [],
      "source": [
        "# Edit the code below\n",
        "\n",
        "m, m_var = curve_fit(line, T_squared, a_cubed, p0 = 1e30)  # Change all three of these to the relevant inputs\n",
        "                                                            # Leave P0 alone, its a rough initial guess for m which saves the\n",
        "                                                            # algorithm some time, for example of course we know the slope is positive and large\n",
        "\n",
        "m_delta = np.sqrt(m_var)                                    # The standard deviation (uncertainty) is the root of the variance of m"
      ]
    },
    {
      "cell_type": "code",
      "execution_count": null,
      "metadata": {
        "id": "mBi3MTlz9JKn",
        "colab": {
          "base_uri": "https://localhost:8080/"
        },
        "outputId": "358f5823-f229-4413-cf33-1307a2f9ae7b"
      },
      "outputs": [
        {
          "output_type": "stream",
          "name": "stdout",
          "text": [
            "[1.36433745e+25] is the slope of the line.\n",
            "[[2.15069031e+22]] is the uncertainty in the slope.\n"
          ]
        }
      ],
      "source": [
        "# Run this to print out the slope and the uncertainty in the slope\n",
        "\n",
        "print(m, \"is the slope of the line.\")\n",
        "print(m_delta, \"is the uncertainty in the slope.\")"
      ]
    },
    {
      "cell_type": "markdown",
      "metadata": {
        "id": "CEyRuTES_zEi"
      },
      "source": [
        "Finally we can solve for $M_{blackhole}$ using the equation we found earlier involving the slope.\n",
        "\\begin{equation}\n",
        "M_{blackhole} = \\frac{4\\pi^2}{G}m  \\tag{$*$}\n",
        "\\end{equation}\n",
        "One thing we need to look out for is to make sure our uncertainty in the slope gets scaled up properly to the uncertainty in the mass of the black hole.\n",
        "\n",
        "In science we frequently take values like $\\pi$ and the graviational constant,seen here, to have no uncertainty as over the years they have been studied to extreme precision (we know $\\pi$ to 100 trillion digits of precision!). This means we don't need to worry about any funky buisness like having to combine uncertainties, instead we can find the uncertainty of the black hole by feeding it through the equation above.\n",
        "\n",
        "$\\textbf{The final step is plugging $m$ and $m_{delta}$ into the equation above:}$"
      ]
    },
    {
      "cell_type": "code",
      "execution_count": null,
      "metadata": {
        "id": "NJ5bckNZAStR"
      },
      "outputs": [],
      "source": [
        "M_bh =  4*PI**2*m/G             # Fill in the equation labeled (*) here and dont forgot to use PI and G_value for your constants\n",
        "                                           # Use * to multiply and / to divide. Remember BEDMAS.\n",
        "\n",
        "M_delta =   4*PI**2*m_delta/G   # Copy-paste the equation as above but plug in m_unc instead of m.\n"
      ]
    },
    {
      "cell_type": "code",
      "execution_count": null,
      "metadata": {
        "id": "PSzEiZuZkGbE",
        "colab": {
          "base_uri": "https://localhost:8080/"
        },
        "outputId": "93d4ade1-7dfc-41d4-c37d-39536893946d"
      },
      "outputs": [
        {
          "output_type": "stream",
          "name": "stdout",
          "text": [
            "The mass of the blackhole is: [8.07004237e+36] kg or  [4035021.18387925] solar masses.\n",
            "The uncertainty is [[1.27213117e+34]] kg or [[6360.65582638]] solar masses.\n"
          ]
        }
      ],
      "source": [
        "# Run this\n",
        "\n",
        "print(\"The mass of the blackhole is:\", M_bh, \"kg or \", M_bh/(2e30), \"solar masses.\") # Conversion from Kg to Solar masses\n",
        "print(\"The uncertainty is\", M_delta, \"kg or\", M_delta/(2e30),\"solar masses.\")"
      ]
    },
    {
      "cell_type": "markdown",
      "metadata": {
        "id": "djwXhxpPAoMQ"
      },
      "source": [
        "You should have found $M_{blackhole}$ $\\approx$ 4 000 000 $M_{sun}$ using the fitting method, how does it compare to the first method presented in this notebook and how does it compare to [wikipedia's value](https://en.wikipedia.org/wiki/Sagittarius_A*)?"
      ]
    },
    {
      "cell_type": "markdown",
      "metadata": {
        "id": "q3ijXIQVcdDv"
      },
      "source": [
        "Although we have found the mass, we can visualise our findings with a plot of the data and line of best fit.\n",
        "\n",
        "$\\textbf{Create one last plot of the $a^3$ vs $T^2$ data and the line of slope m}$:"
      ]
    },
    {
      "cell_type": "code",
      "execution_count": null,
      "metadata": {
        "id": "Ke0yWo0Gdc-G",
        "colab": {
          "base_uri": "https://localhost:8080/",
          "height": 490
        },
        "outputId": "ca94f9d2-26d7-4793-e4b7-c12c8c666234"
      },
      "outputs": [
        {
          "output_type": "execute_result",
          "data": {
            "text/plain": [
              "<matplotlib.legend.Legend at 0x7ff79f50aa10>"
            ]
          },
          "metadata": {},
          "execution_count": 34
        },
        {
          "output_type": "display_data",
          "data": {
            "text/plain": [
              "<Figure size 640x480 with 1 Axes>"
            ],
            "image/png": "[encoded data removed]"
          },
          "metadata": {}
        }
      ],
      "source": [
        "##############\n",
        "plt.figure()\n",
        "\n",
        "plt.scatter(T_squared, a_cubed, label = \"data\")                     # Change these to the appropriate variables again\n",
        "plt.plot(T_squared, line(T_squared, m), label = \"Linear Fit\")         # Change these as well\n",
        "\n",
        "plt.title(\"Y vs. X\")\n",
        "plt.xlabel(\"X data\")\n",
        "plt.ylabel(\"Y data\")\n",
        "\n",
        "plt.grid(\"on\")\n",
        "plt.legend()\n",
        "##############"
      ]
    },
    {
      "cell_type": "markdown",
      "metadata": {
        "id": "-0MNqX5py-GS"
      },
      "source": [
        "\n",
        "##**Computing the Distance From a Star to The SMBH**\n",
        "\n",
        "---\n"
      ]
    },
    {
      "cell_type": "markdown",
      "metadata": {
        "id": "cIwLZtMKzEQ5"
      },
      "source": [
        "In the last exercise, you have worked on determining the slope of a line. Remember that this is a linear relation between $a^3$ and $T^2$ that you found. This means from now on, we can use this relation to find the distance of a star from the blackhole only by using its period ($T$)! Let's give it a try!\n",
        "\n",
        "Let's pick a star from our list. We have 7 stars in our list. The periods of each of these stars are stored inside the list T in the code we have been using. I really like the number 3, so let's use the period of the third star from our list T.\n",
        "\n",
        "$\\textbf{Use your understanding of lists and indices to extract the period data of third star from the list:}$"
      ]
    },
    {
      "cell_type": "code",
      "execution_count": null,
      "metadata": {
        "id": "KsRv02ZkzIbf"
      },
      "outputs": [],
      "source": [
        "#Set the variable below to be the period of the third star from the list T\n",
        "period = T[2] #this is in seconds"
      ]
    },
    {
      "cell_type": "markdown",
      "metadata": {
        "id": "hllT6ut4zJBU"
      },
      "source": [
        "Now, to determine the distance to the black hole (a.k.a $a$), we need to put this period into the equation we developed earlier. Remember that the equations looked like:\n",
        "\n",
        "\\begin{equation}\n",
        "y = mx\n",
        "\\end{equation}\n",
        "\n",
        "Now, remember what the Kepler's law tells us:\n",
        "\n",
        "\\begin{equation}\n",
        "T^2 = \\frac{4\\pi^2}{GM_{blackhole}}a^3\n",
        "\\end{equation}\n",
        "\n",
        "---\n",
        "**Small Detour: Cuberoots**\n",
        "\n",
        "In this section, you will have to take the cuberoot of $a^3$ to find $a$. It may seem confusing at first, but cuberoots work the same way squareroots work. **For example:**\n",
        "\n",
        "Let's say $x$ is a real number. You are given that $x^2 = 16$. What is $x$?\n",
        "\n",
        "**Solution:**\n",
        "\n",
        "Take the squareroot of $x^2$ and find $x$. You can use a calculator or a python function. In python use \"np.sqrt(number)\" function to get the squareroot of a number.\n",
        "\n",
        "Now, similar to this, if you had another real number, $y$, and you were given that $y^3 = 27$, you could take the cuberoot of $y^3$ to find the value for $y$. In python, you can the function \"np.cbrt(number)\" to get the cuberoot of a number.\n",
        "\n",
        "---\n",
        "\n",
        "After this tiny detour, make sure you understand what cuberoots are. Now, use your knowledge of the formula and cuberoots to find the value of $a$ from $T$.\n",
        "\n",
        "$\\textbf{What do x and y stand for in terms of $a$ and $T$? Work on the period variable so that it can be used in the equation:}$\n",
        "\n",
        "**Hint:** *Go back to the section talking about the slope and the linear equation above. Keep in mind that $a$ is cubed and $T$ is squared in the equation.*"
      ]
    },
    {
      "cell_type": "code",
      "execution_count": null,
      "metadata": {
        "id": "G_V9J7qmzLYC",
        "colab": {
          "base_uri": "https://localhost:8080/"
        },
        "outputId": "1f02f75c-0aa4-4257-fd86-d88c22c9a0d0"
      },
      "outputs": [
        {
          "output_type": "stream",
          "name": "stdout",
          "text": [
            "[2.6006589e+14]\n"
          ]
        }
      ],
      "source": [
        "#Let's call the result of this function as distance_3, remember that this is not directly the distance of the star to the blackhole.\n",
        "distance_3 = m*period**2\n",
        "\n",
        "#Now, get the direct distance from the star to the blackhole.\n",
        "distance = np.cbrt(distance_3)\n",
        "\n",
        "#Finally print the distance value. What are the units of this quantity?\n",
        "print(distance)"
      ]
    },
    {
      "cell_type": "markdown",
      "metadata": {
        "id": "sCZj-PxWzM9n"
      },
      "source": [
        "$\\textbf{Remember that the radius of Sagittarius A* is 12 million km! How do you think the distance quantity you just found compares to this?}$\n",
        "\n",
        "Discuss with your team mates.\n",
        "\n",
        "---"
      ]
    },
    {
      "cell_type": "markdown",
      "metadata": {
        "id": "ypPgXUngtUxK"
      },
      "source": [
        "#**A Final Review.**\n",
        "\n",
        "---\n",
        "\n",
        "\n",
        "This is the end of the project so here is a quick summary of the skills you have learned or improved through this notebook.\n"
      ]
    },
    {
      "cell_type": "markdown",
      "metadata": {
        "id": "SZCxGE64tjJ-"
      },
      "source": [
        "You:\n",
        "\n",
        "1.   $\\textbf{defined functions that run over entire arrays of data}$ which saved time in not having to do each computation seperately.\n",
        "2.   $\\textbf{found the uncertainty in your blackhole mass using the standard deviation.}$ Uncertainty is what makes your findings relevant for many reasons but it importantly bounds the measurement you've made and can be used to compare it to other experiments. Ask yourself, \"are the mass of the blackhole that I calculated in the two methods the same value?\" if not then \"do they at least overlap if I inclued the uncertainty of both?\". If both experiments agree then it's a sign that they confirm the same measurement, if not, then something might be wrong with one or both of the methods.\n",
        "3.  $\\textbf{visualised data given to you in a clear and understandable way}$ so that you could recognize a trend in the data. Had you only the raw output of the data as you printed earlier you likely wouldn't have spotted this trend (unless you're Neo from the matrix) which emphasizes the importance of data visualisation.\n",
        "4.  $\\textbf{Fit the trend you recognized using an algorithm (curve_fit)}$ to find the mass of blackhole with uncertainty in an elegant manner. This is the bread and butter of scientific programming, in that you use the computer as a tool to do the heavy lifting and computation.\n",
        "5.  $\\textbf{Using the parameters that come out of the fit}$ to calculate values. Once you defined the the fitting equation of form $y = mx+ b$ you took the slope and used that to find physical quantities. It's a direct application of an abstract idea (fitting a line to your data) to get meaningful results (calculating the mass of a blackhole).\n",
        "\n"
      ]
    },
    {
      "cell_type": "markdown",
      "metadata": {
        "id": "kAuV3puX48BV"
      },
      "source": [
        "That's all! You have completed a project in astronomy and have developed a handful of skills in scientific programming."
      ]
    },
    {
      "cell_type": "markdown",
      "source": [
        "# Solutions\n",
        "\n",
        "---"
      ],
      "metadata": {
        "id": "Gr4L7uOO4YbD"
      }
    },
    {
      "cell_type": "markdown",
      "source": [
        "$\\textbf{Exercise 1}$\n",
        "\n",
        "$\\textbf{1.1}$\n",
        "\\begin{equation}\n",
        "T^2 = \\frac{4\\pi^2}{GM_{blackhole}}a^3\n",
        "\\end{equation}\n",
        "\n",
        "$\\textbf{2.2}$\n",
        "\\begin{equation}\n",
        "M_{blackhole} = \\frac{4\\pi^2}{G}\\frac{a^3}{T^2}\n",
        "\\end{equation}\n",
        "\n",
        "$\\textbf{Exercise 2}$\n",
        "\n",
        "See the code block below"
      ],
      "metadata": {
        "id": "YEQg7DJX4m7K"
      }
    },
    {
      "cell_type": "code",
      "source": [
        "def mass_bh_advanced(a,T):\n",
        "  '''\n",
        "  This function takes a (semi-major axis) in metres and T (period) in seconds (the data we are using already has everything in these units,\n",
        "  so you don't have to change anything). This function also uses some constants like pi and G (gravitational constant) which are taken from\n",
        "  python libraries.\n",
        "\n",
        "  The function calculates M based on the formula we derived earlier and it returns the value calculated.\n",
        "  '''\n",
        "  M = ((4*PI**2)/G_value)*((a**3)/(T**2))\n",
        "  return M"
      ],
      "metadata": {
        "id": "Lt22zn0-4dli"
      },
      "execution_count": null,
      "outputs": []
    }
  ],
  "metadata": {
    "colab": {
      "provenance": []
    },
    "kernelspec": {
      "display_name": "Python 3",
      "name": "python3"
    },
    "language_info": {
      "name": "python"
    },
    "widgets": {
      "application/vnd.jupyter.widget-state+json": {
        "0b862d20cbd84ec78a70b41baa43285e": {
          "model_module": "@jupyter-widgets/controls",
          "model_name": "VBoxModel",
          "model_module_version": "1.5.0",
          "state": {
            "_dom_classes": [
              "widget-interact"
            ],
            "_model_module": "@jupyter-widgets/controls",
            "_model_module_version": "1.5.0",
            "_model_name": "VBoxModel",
            "_view_count": null,
            "_view_module": "@jupyter-widgets/controls",
            "_view_module_version": "1.5.0",
            "_view_name": "VBoxView",
            "box_style": "",
            "children": [
              "IPY_MODEL_7ca9ef01527d40c6aaa82414c409604d",
              "IPY_MODEL_88a9d4dd5bfe4c57b19f2c5977d2e67d"
            ],
            "layout": "IPY_MODEL_a80527460fd1474ea8b80813c90b0a56"
          }
        },
        "7ca9ef01527d40c6aaa82414c409604d": {
          "model_module": "@jupyter-widgets/controls",
          "model_name": "FloatSliderModel",
          "model_module_version": "1.5.0",
          "state": {
            "_dom_classes": [],
            "_model_module": "@jupyter-widgets/controls",
            "_model_module_version": "1.5.0",
            "_model_name": "FloatSliderModel",
            "_view_count": null,
            "_view_module": "@jupyter-widgets/controls",
            "_view_module_version": "1.5.0",
            "_view_name": "FloatSliderView",
            "continuous_update": true,
            "description": "STD:",
            "description_tooltip": null,
            "disabled": false,
            "layout": "IPY_MODEL_ef5f4422ba1945fc99b8ce9a3ea075d8",
            "max": 50,
            "min": 0,
            "orientation": "horizontal",
            "readout": true,
            "readout_format": ".1f",
            "step": 1,
            "style": "IPY_MODEL_e95768cb7c824496af677b6a6ceb563e",
            "value": 27
          }
        },
        "88a9d4dd5bfe4c57b19f2c5977d2e67d": {
          "model_module": "@jupyter-widgets/output",
          "model_name": "OutputModel",
          "model_module_version": "1.0.0",
          "state": {
            "_dom_classes": [],
            "_model_module": "@jupyter-widgets/output",
            "_model_module_version": "1.0.0",
            "_model_name": "OutputModel",
            "_view_count": null,
            "_view_module": "@jupyter-widgets/output",
            "_view_module_version": "1.0.0",
            "_view_name": "OutputView",
            "layout": "IPY_MODEL_9c955f1b6a6945619bd206ecc52a50f2",
            "msg_id": "",
            "outputs": [
              {
                "output_type": "display_data",
                "data": {
                  "text/plain": "<Figure size 640x480 with 1 Axes>",
                  "image/png": "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\n"
                },
                "metadata": {}
              }
            ]
          }
        },
        "a80527460fd1474ea8b80813c90b0a56": {
          "model_module": "@jupyter-widgets/base",
          "model_name": "LayoutModel",
          "model_module_version": "1.2.0",
          "state": {
            "_model_module": "@jupyter-widgets/base",
            "_model_module_version": "1.2.0",
            "_model_name": "LayoutModel",
            "_view_count": null,
            "_view_module": "@jupyter-widgets/base",
            "_view_module_version": "1.2.0",
            "_view_name": "LayoutView",
            "align_content": null,
            "align_items": null,
            "align_self": null,
            "border": null,
            "bottom": null,
            "display": null,
            "flex": null,
            "flex_flow": null,
            "grid_area": null,
            "grid_auto_columns": null,
            "grid_auto_flow": null,
            "grid_auto_rows": null,
            "grid_column": null,
            "grid_gap": null,
            "grid_row": null,
            "grid_template_areas": null,
            "grid_template_columns": null,
            "grid_template_rows": null,
            "height": null,
            "justify_content": null,
            "justify_items": null,
            "left": null,
            "margin": null,
            "max_height": null,
            "max_width": null,
            "min_height": null,
            "min_width": null,
            "object_fit": null,
            "object_position": null,
            "order": null,
            "overflow": null,
            "overflow_x": null,
            "overflow_y": null,
            "padding": null,
            "right": null,
            "top": null,
            "visibility": null,
            "width": null
          }
        },
        "ef5f4422ba1945fc99b8ce9a3ea075d8": {
          "model_module": "@jupyter-widgets/base",
          "model_name": "LayoutModel",
          "model_module_version": "1.2.0",
          "state": {
            "_model_module": "@jupyter-widgets/base",
            "_model_module_version": "1.2.0",
            "_model_name": "LayoutModel",
            "_view_count": null,
            "_view_module": "@jupyter-widgets/base",
            "_view_module_version": "1.2.0",
            "_view_name": "LayoutView",
            "align_content": null,
            "align_items": null,
            "align_self": null,
            "border": null,
            "bottom": null,
            "display": null,
            "flex": null,
            "flex_flow": null,
            "grid_area": null,
            "grid_auto_columns": null,
            "grid_auto_flow": null,
            "grid_auto_rows": null,
            "grid_column": null,
            "grid_gap": null,
            "grid_row": null,
            "grid_template_areas": null,
            "grid_template_columns": null,
            "grid_template_rows": null,
            "height": null,
            "justify_content": null,
            "justify_items": null,
            "left": null,
            "margin": null,
            "max_height": null,
            "max_width": null,
            "min_height": null,
            "min_width": null,
            "object_fit": null,
            "object_position": null,
            "order": null,
            "overflow": null,
            "overflow_x": null,
            "overflow_y": null,
            "padding": null,
            "right": null,
            "top": null,
            "visibility": null,
            "width": null
          }
        },
        "e95768cb7c824496af677b6a6ceb563e": {
          "model_module": "@jupyter-widgets/controls",
          "model_name": "SliderStyleModel",
          "model_module_version": "1.5.0",
          "state": {
            "_model_module": "@jupyter-widgets/controls",
            "_model_module_version": "1.5.0",
            "_model_name": "SliderStyleModel",
            "_view_count": null,
            "_view_module": "@jupyter-widgets/base",
            "_view_module_version": "1.2.0",
            "_view_name": "StyleView",
            "description_width": "",
            "handle_color": null
          }
        },
        "9c955f1b6a6945619bd206ecc52a50f2": {
          "model_module": "@jupyter-widgets/base",
          "model_name": "LayoutModel",
          "model_module_version": "1.2.0",
          "state": {
            "_model_module": "@jupyter-widgets/base",
            "_model_module_version": "1.2.0",
            "_model_name": "LayoutModel",
            "_view_count": null,
            "_view_module": "@jupyter-widgets/base",
            "_view_module_version": "1.2.0",
            "_view_name": "LayoutView",
            "align_content": null,
            "align_items": null,
            "align_self": null,
            "border": null,
            "bottom": null,
            "display": null,
            "flex": null,
            "flex_flow": null,
            "grid_area": null,
            "grid_auto_columns": null,
            "grid_auto_flow": null,
            "grid_auto_rows": null,
            "grid_column": null,
            "grid_gap": null,
            "grid_row": null,
            "grid_template_areas": null,
            "grid_template_columns": null,
            "grid_template_rows": null,
            "height": null,
            "justify_content": null,
            "justify_items": null,
            "left": null,
            "margin": null,
            "max_height": null,
            "max_width": null,
            "min_height": null,
            "min_width": null,
            "object_fit": null,
            "object_position": null,
            "order": null,
            "overflow": null,
            "overflow_x": null,
            "overflow_y": null,
            "padding": null,
            "right": null,
            "top": null,
            "visibility": null,
            "width": null
          }
        }
      }
    }
  },
  "nbformat": 4,
  "nbformat_minor": 0
}